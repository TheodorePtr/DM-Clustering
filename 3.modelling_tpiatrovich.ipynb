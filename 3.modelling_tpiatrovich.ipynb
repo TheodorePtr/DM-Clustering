{
 "cells": [
  {
   "attachments": {},
   "cell_type": "markdown",
   "metadata": {},
   "source": [
    "### Imports"
   ]
  },
  {
   "cell_type": "code",
   "execution_count": null,
   "metadata": {},
   "outputs": [],
   "source": [
    "import pandas as pd\n",
    "import numpy as np\n",
    "\n",
    "from sklearn.pipeline import make_pipeline\n",
    "from sklearn.preprocessing import StandardScaler\n",
    "from sklearn.preprocessing import Normalizer\n",
    "from sklearn.decomposition import PCA\n",
    "\n",
    "from sklearn.cluster import KMeans\n",
    "\n",
    "from feature_engineering_functions import ColumnsCombinator\n",
    "\n",
    "from scipy.cluster.hierarchy import linkage\n",
    "from scipy.cluster.hierarchy import dendrogram"
   ]
  },
  {
   "attachments": {},
   "cell_type": "markdown",
   "metadata": {},
   "source": [
    "### Create pipelines for different experiments"
   ]
  },
  {
   "cell_type": "code",
   "execution_count": null,
   "metadata": {},
   "outputs": [],
   "source": [
    "from sklearn.cluster import KMeans\n",
    "\n",
    "\n",
    "saldo_creator = ColumnsCombinator(arguments=[\"exports\", \"imports\"],\n",
    "                                  operators=[\"-\"],\n",
    "                                  new_column_name=\"saldo\")\n",
    "total_health_exp_est_creator= ColumnsCombinator(arguments=[\"health\", \"gdpp\", \"income\"],\n",
    "                                                operators=[\"*\", \"+\"],\n",
    "                                                new_column_name=\"total_health_exp\")\n",
    "# preprocessors\n",
    "scaler = StandardScaler()\n",
    "normalizer = Normalizer()\n",
    "pca = PCA(n_components=4)\n",
    "\n",
    "# models\n",
    "kmeans = KMeans(n_clusters=3, random_state=0)\n",
    "\n"
   ]
  }
 ],
 "metadata": {
  "kernelspec": {
   "display_name": "dm_project_env",
   "language": "python",
   "name": "python3"
  },
  "language_info": {
   "codemirror_mode": {
    "name": "ipython",
    "version": 3
   },
   "file_extension": ".py",
   "mimetype": "text/x-python",
   "name": "python",
   "nbconvert_exporter": "python",
   "pygments_lexer": "ipython3",
   "version": "3.10.6"
  },
  "orig_nbformat": 4
 },
 "nbformat": 4,
 "nbformat_minor": 2
}
