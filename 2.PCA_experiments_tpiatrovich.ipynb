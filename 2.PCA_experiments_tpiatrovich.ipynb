{
 "cells": [
  {
   "attachments": {},
   "cell_type": "markdown",
   "metadata": {},
   "source": [
    "### Imports"
   ]
  },
  {
   "cell_type": "code",
   "execution_count": 23,
   "metadata": {},
   "outputs": [],
   "source": [
    "import pandas as pd\n",
    "import numpy as np\n",
    "\n",
    "\n",
    "\n",
    "from sklearn.base import TransformerMixin, BaseEstimator\n",
    "from sklearn.pipeline import make_pipeline\n",
    "from sklearn.decomposition import PCA\n",
    "from sklearn.discriminant_analysis import StandardScaler\n",
    "\n",
    "from scipy.stats import ttest_ind\n",
    "\n",
    "from common_code import test_hopkins\n"
   ]
  },
  {
   "attachments": {},
   "cell_type": "markdown",
   "metadata": {},
   "source": [
    "### Loading the data"
   ]
  },
  {
   "cell_type": "code",
   "execution_count": 5,
   "metadata": {},
   "outputs": [],
   "source": [
    "countries_df = pd.read_csv(\"data/countries.csv\").set_index(\"country\")"
   ]
  },
  {
   "attachments": {},
   "cell_type": "markdown",
   "metadata": {},
   "source": [
    "### Small Feature Engineering"
   ]
  },
  {
   "cell_type": "code",
   "execution_count": 6,
   "metadata": {},
   "outputs": [],
   "source": [
    "class ColumnsCombinator(TransformerMixin, BaseEstimator):\n",
    "    \"\"\"\n",
    "    Combines columns of a pandas DataFrame using arithmetic operators and creates a new column.\n",
    "\n",
    "    Parameters:\n",
    "        arguments (list of str): The column names to use as operands in the arithmetic operations.\n",
    "        operators (list of str): The arithmetic operators to use between the columns. Must be one of ['+', '-', '*', '/'].\n",
    "        new_column_name (str): The name of the new column to create.\n",
    "\n",
    "    Raises:\n",
    "        AssertionError: If the number of arguments is not equal to the number of operators plus one.\n",
    "                        If any of the operators is not one of ['+', '-', '*', '/'].\n",
    "\n",
    "    Methods:\n",
    "        fit(X, y=None)\n",
    "            Stores a copy of the input DataFrame and returns the instance.\n",
    "\n",
    "        transform(X)\n",
    "            Applies the arithmetic operations to the stored copy of the input DataFrame and returns the result.\n",
    "\n",
    "    Attributes:\n",
    "        arguments (list of str): The column names to use as operands in the arithmetic operations.\n",
    "        operators (list of str): The arithmetic operators to use between the columns. Must be one of ['+', '-', '*', '/'].\n",
    "        new_column_name (str): The name of the new column to create.\n",
    "        X_new (pandas DataFrame): The copy of the input DataFrame used to store the result.\n",
    "    \"\"\"\n",
    "    def __init__(self, arguments, operators, new_column_name):\n",
    "        assert len(arguments) == len(operators) + 1, \"number of arguments must be equal to number of operators + 1\"\n",
    "        assert all(op in ['+', '-', '*', '/'] for op in operators), \"operators must be +, -, * or /\"\n",
    "        self.arguments = arguments\n",
    "        self.operators = operators\n",
    "        self.new_column_name = new_column_name\n",
    "\n",
    "    def fit(self, X, y=None):\n",
    "        self.X_new = X.copy()\n",
    "        return self\n",
    "\n",
    "    def transform(self, X):\n",
    "        for i in range(len(self.operators)):\n",
    "            if self.operators[i] == \"+\":\n",
    "                self.X_new[self.new_column_name] = X[self.arguments[i]] + X[self.arguments[i+1]]\n",
    "            elif self.operators[i] == \"-\":\n",
    "                self.X_new[self.new_column_name] = X[self.arguments[i]] - X[self.arguments[i+1]]\n",
    "            elif self.operators[i] == \"*\":\n",
    "                self.X_new[self.new_column_name] = X[self.arguments[i]] * X[self.arguments[i+1]]\n",
    "            elif self.operators[i] == \"/\":\n",
    "                self.X_new[self.new_column_name] = X[self.arguments[i]] / X[self.arguments[i+1]]\n",
    "                \n",
    "        return self.X_new\n",
    "    \n",
    "saldo_creator = ColumnsCombinator(arguments=[\"exports\", \"imports\"],\n",
    "                                  operators=[\"-\"],\n",
    "                                  new_column_name=\"saldo\")\n",
    "total_health_exp_est_creator= ColumnsCombinator(arguments=[\"health\", \"gdpp\", \"income\"],\n",
    "                                                operators=[\"*\", \"+\"],\n",
    "                                                new_column_name=\"total_health_exp\")\n",
    "# add scaling\n",
    "scaler = StandardScaler()\n",
    "\n",
    "feature_pipeline = make_pipeline(saldo_creator, total_health_exp_est_creator, scaler)\n",
    "feature_pipeline.fit(countries_df)\n",
    "# add scaling here\n",
    "X_extended = pd.DataFrame(feature_pipeline.transform(countries_df),\n",
    "                          columns=feature_pipeline[-1].get_feature_names_out(),\n",
    "                          index=countries_df.index)"
   ]
  },
  {
   "cell_type": "code",
   "execution_count": 7,
   "metadata": {},
   "outputs": [
    {
     "data": {
      "text/html": [
       "\n",
       "<div id=\"altair-viz-e1927ad72f214809b588947d6625354a\"></div>\n",
       "<script type=\"text/javascript\">\n",
       "  var VEGA_DEBUG = (typeof VEGA_DEBUG == \"undefined\") ? {} : VEGA_DEBUG;\n",
       "  (function(spec, embedOpt){\n",
       "    let outputDiv = document.currentScript.previousElementSibling;\n",
       "    if (outputDiv.id !== \"altair-viz-e1927ad72f214809b588947d6625354a\") {\n",
       "      outputDiv = document.getElementById(\"altair-viz-e1927ad72f214809b588947d6625354a\");\n",
       "    }\n",
       "    const paths = {\n",
       "      \"vega\": \"https://cdn.jsdelivr.net/npm//vega@5?noext\",\n",
       "      \"vega-lib\": \"https://cdn.jsdelivr.net/npm//vega-lib?noext\",\n",
       "      \"vega-lite\": \"https://cdn.jsdelivr.net/npm//vega-lite@4.17.0?noext\",\n",
       "      \"vega-embed\": \"https://cdn.jsdelivr.net/npm//vega-embed@6?noext\",\n",
       "    };\n",
       "\n",
       "    function maybeLoadScript(lib, version) {\n",
       "      var key = `${lib.replace(\"-\", \"\")}_version`;\n",
       "      return (VEGA_DEBUG[key] == version) ?\n",
       "        Promise.resolve(paths[lib]) :\n",
       "        new Promise(function(resolve, reject) {\n",
       "          var s = document.createElement('script');\n",
       "          document.getElementsByTagName(\"head\")[0].appendChild(s);\n",
       "          s.async = true;\n",
       "          s.onload = () => {\n",
       "            VEGA_DEBUG[key] = version;\n",
       "            return resolve(paths[lib]);\n",
       "          };\n",
       "          s.onerror = () => reject(`Error loading script: ${paths[lib]}`);\n",
       "          s.src = paths[lib];\n",
       "        });\n",
       "    }\n",
       "\n",
       "    function showError(err) {\n",
       "      outputDiv.innerHTML = `<div class=\"error\" style=\"color:red;\">${err}</div>`;\n",
       "      throw err;\n",
       "    }\n",
       "\n",
       "    function displayChart(vegaEmbed) {\n",
       "      vegaEmbed(outputDiv, spec, embedOpt)\n",
       "        .catch(err => showError(`Javascript Error: ${err.message}<br>This usually means there's a typo in your chart specification. See the javascript console for the full traceback.`));\n",
       "    }\n",
       "\n",
       "    if(typeof define === \"function\" && define.amd) {\n",
       "      requirejs.config({paths});\n",
       "      require([\"vega-embed\"], displayChart, err => showError(`Error loading script: ${err.message}`));\n",
       "    } else {\n",
       "      maybeLoadScript(\"vega\", \"5\")\n",
       "        .then(() => maybeLoadScript(\"vega-lite\", \"4.17.0\"))\n",
       "        .then(() => maybeLoadScript(\"vega-embed\", \"6\"))\n",
       "        .catch(showError)\n",
       "        .then(() => displayChart(vegaEmbed));\n",
       "    }\n",
       "  })({\"config\": {\"view\": {\"continuousWidth\": 400, \"continuousHeight\": 300}}, \"layer\": [{\"mark\": \"rect\", \"encoding\": {\"color\": {\"field\": \"correlation\", \"type\": \"quantitative\"}, \"x\": {\"field\": \"feature_1\", \"type\": \"nominal\"}, \"y\": {\"field\": \"feature_2\", \"type\": \"nominal\"}}}, {\"mark\": {\"type\": \"text\", \"baseline\": \"middle\"}, \"encoding\": {\"color\": {\"condition\": {\"value\": \"white\", \"test\": \"(datum.correlation > 0.5)\"}, \"value\": \"black\"}, \"text\": {\"field\": \"correlation\", \"format\": \".2f\", \"type\": \"quantitative\"}, \"x\": {\"field\": \"feature_1\", \"type\": \"nominal\"}, \"y\": {\"field\": \"feature_2\", \"type\": \"nominal\"}}}], \"data\": {\"name\": \"data-8dc93b8e09c549e691545c40c61d6403\"}, \"height\": 400, \"transform\": [{\"filter\": \"(datum.feature_1 < datum.feature_2)\"}], \"width\": 400, \"$schema\": \"https://vega.github.io/schema/vega-lite/v4.17.0.json\", \"datasets\": {\"data-8dc93b8e09c549e691545c40c61d6403\": [{\"feature_1\": \"child_mort\", \"feature_2\": \"child_mort\", \"correlation\": 1.0}, {\"feature_1\": \"child_mort\", \"feature_2\": \"exports\", \"correlation\": -0.3180932226449495}, {\"feature_1\": \"child_mort\", \"feature_2\": \"health\", \"correlation\": -0.20040205881029755}, {\"feature_1\": \"child_mort\", \"feature_2\": \"imports\", \"correlation\": -0.12721091993876066}, {\"feature_1\": \"child_mort\", \"feature_2\": \"income\", \"correlation\": -0.524315016499435}, {\"feature_1\": \"child_mort\", \"feature_2\": \"inflation\", \"correlation\": 0.2882761680227146}, {\"feature_1\": \"child_mort\", \"feature_2\": \"life_expec\", \"correlation\": -0.8866760973367761}, {\"feature_1\": \"child_mort\", \"feature_2\": \"total_fer\", \"correlation\": 0.8484781105566708}, {\"feature_1\": \"child_mort\", \"feature_2\": \"gdpp\", \"correlation\": -0.48303216621678197}, {\"feature_1\": \"child_mort\", \"feature_2\": \"saldo\", \"correlation\": -0.2977340580845288}, {\"feature_1\": \"child_mort\", \"feature_2\": \"total_health_exp\", \"correlation\": -0.5178876441757239}, {\"feature_1\": \"exports\", \"feature_2\": \"child_mort\", \"correlation\": -0.3180932226449495}, {\"feature_1\": \"exports\", \"feature_2\": \"exports\", \"correlation\": 1.0}, {\"feature_1\": \"exports\", \"feature_2\": \"health\", \"correlation\": -0.11440840246461277}, {\"feature_1\": \"exports\", \"feature_2\": \"imports\", \"correlation\": 0.7373808339554994}, {\"feature_1\": \"exports\", \"feature_2\": \"income\", \"correlation\": 0.5167836027021385}, {\"feature_1\": \"exports\", \"feature_2\": \"inflation\", \"correlation\": -0.10729439255194574}, {\"feature_1\": \"exports\", \"feature_2\": \"life_expec\", \"correlation\": 0.31631260495547947}, {\"feature_1\": \"exports\", \"feature_2\": \"total_fer\", \"correlation\": -0.32001055003580775}, {\"feature_1\": \"exports\", \"feature_2\": \"gdpp\", \"correlation\": 0.4187247510013238}, {\"feature_1\": \"exports\", \"feature_2\": \"saldo\", \"correlation\": 0.5047002217839808}, {\"feature_1\": \"exports\", \"feature_2\": \"total_health_exp\", \"correlation\": 0.4817288289953414}, {\"feature_1\": \"health\", \"feature_2\": \"child_mort\", \"correlation\": -0.20040205881029755}, {\"feature_1\": \"health\", \"feature_2\": \"exports\", \"correlation\": -0.11440840246461277}, {\"feature_1\": \"health\", \"feature_2\": \"health\", \"correlation\": 1.0}, {\"feature_1\": \"health\", \"feature_2\": \"imports\", \"correlation\": 0.09571667808670563}, {\"feature_1\": \"health\", \"feature_2\": \"income\", \"correlation\": 0.12957860504935104}, {\"feature_1\": \"health\", \"feature_2\": \"inflation\", \"correlation\": -0.2553757928439108}, {\"feature_1\": \"health\", \"feature_2\": \"life_expec\", \"correlation\": 0.21069212144020816}, {\"feature_1\": \"health\", \"feature_2\": \"total_fer\", \"correlation\": -0.19667398827210922}, {\"feature_1\": \"health\", \"feature_2\": \"gdpp\", \"correlation\": 0.3459655251954037}, {\"feature_1\": \"health\", \"feature_2\": \"saldo\", \"correlation\": -0.2878924814550538}, {\"feature_1\": \"health\", \"feature_2\": \"total_health_exp\", \"correlation\": 0.24142404077863913}, {\"feature_1\": \"imports\", \"feature_2\": \"child_mort\", \"correlation\": -0.12721091993876066}, {\"feature_1\": \"imports\", \"feature_2\": \"exports\", \"correlation\": 0.7373808339554994}, {\"feature_1\": \"imports\", \"feature_2\": \"health\", \"correlation\": 0.09571667808670563}, {\"feature_1\": \"imports\", \"feature_2\": \"imports\", \"correlation\": 1.0}, {\"feature_1\": \"imports\", \"feature_2\": \"income\", \"correlation\": 0.12240624865259922}, {\"feature_1\": \"imports\", \"feature_2\": \"inflation\", \"correlation\": -0.24699427949656447}, {\"feature_1\": \"imports\", \"feature_2\": \"life_expec\", \"correlation\": 0.054390534928787336}, {\"feature_1\": \"imports\", \"feature_2\": \"total_fer\", \"correlation\": -0.15904843378201766}, {\"feature_1\": \"imports\", \"feature_2\": \"gdpp\", \"correlation\": 0.11549816977950136}, {\"feature_1\": \"imports\", \"feature_2\": \"saldo\", \"correlation\": -0.2109796326525293}, {\"feature_1\": \"imports\", \"feature_2\": \"total_health_exp\", \"correlation\": 0.12227228905505642}, {\"feature_1\": \"income\", \"feature_2\": \"child_mort\", \"correlation\": -0.524315016499435}, {\"feature_1\": \"income\", \"feature_2\": \"exports\", \"correlation\": 0.5167836027021385}, {\"feature_1\": \"income\", \"feature_2\": \"health\", \"correlation\": 0.12957860504935104}, {\"feature_1\": \"income\", \"feature_2\": \"imports\", \"correlation\": 0.12240624865259922}, {\"feature_1\": \"income\", \"feature_2\": \"income\", \"correlation\": 1.0}, {\"feature_1\": \"income\", \"feature_2\": \"inflation\", \"correlation\": -0.14775599560926267}, {\"feature_1\": \"income\", \"feature_2\": \"life_expec\", \"correlation\": 0.6119624680973174}, {\"feature_1\": \"income\", \"feature_2\": \"total_fer\", \"correlation\": -0.5018400532297552}, {\"feature_1\": \"income\", \"feature_2\": \"gdpp\", \"correlation\": 0.8955714330875313}, {\"feature_1\": \"income\", \"feature_2\": \"saldo\", \"correlation\": 0.5914016830107108}, {\"feature_1\": \"income\", \"feature_2\": \"total_health_exp\", \"correlation\": 0.9748796984163512}, {\"feature_1\": \"inflation\", \"feature_2\": \"child_mort\", \"correlation\": 0.2882761680227146}, {\"feature_1\": \"inflation\", \"feature_2\": \"exports\", \"correlation\": -0.10729439255194574}, {\"feature_1\": \"inflation\", \"feature_2\": \"health\", \"correlation\": -0.2553757928439108}, {\"feature_1\": \"inflation\", \"feature_2\": \"imports\", \"correlation\": -0.24699427949656447}, {\"feature_1\": \"inflation\", \"feature_2\": \"income\", \"correlation\": -0.14775599560926267}, {\"feature_1\": \"inflation\", \"feature_2\": \"inflation\", \"correlation\": 1.0}, {\"feature_1\": \"inflation\", \"feature_2\": \"life_expec\", \"correlation\": -0.23970496295763427}, {\"feature_1\": \"inflation\", \"feature_2\": \"total_fer\", \"correlation\": 0.3169210715383262}, {\"feature_1\": \"inflation\", \"feature_2\": \"gdpp\", \"correlation\": -0.2216310581015386}, {\"feature_1\": \"inflation\", \"feature_2\": \"saldo\", \"correlation\": 0.16040451564516148}, {\"feature_1\": \"inflation\", \"feature_2\": \"total_health_exp\", \"correlation\": -0.18875166043396194}, {\"feature_1\": \"life_expec\", \"feature_2\": \"child_mort\", \"correlation\": -0.8866760973367761}, {\"feature_1\": \"life_expec\", \"feature_2\": \"exports\", \"correlation\": 0.31631260495547947}, {\"feature_1\": \"life_expec\", \"feature_2\": \"health\", \"correlation\": 0.21069212144020816}, {\"feature_1\": \"life_expec\", \"feature_2\": \"imports\", \"correlation\": 0.054390534928787336}, {\"feature_1\": \"life_expec\", \"feature_2\": \"income\", \"correlation\": 0.6119624680973174}, {\"feature_1\": \"life_expec\", \"feature_2\": \"inflation\", \"correlation\": -0.23970496295763427}, {\"feature_1\": \"life_expec\", \"feature_2\": \"life_expec\", \"correlation\": 1.0}, {\"feature_1\": \"life_expec\", \"feature_2\": \"total_fer\", \"correlation\": -0.7608746874349637}, {\"feature_1\": \"life_expec\", \"feature_2\": \"gdpp\", \"correlation\": 0.6000891345742052}, {\"feature_1\": \"life_expec\", \"feature_2\": \"saldo\", \"correlation\": 0.3882255054857629}, {\"feature_1\": \"life_expec\", \"feature_2\": \"total_health_exp\", \"correlation\": 0.6226382508199112}, {\"feature_1\": \"total_fer\", \"feature_2\": \"child_mort\", \"correlation\": 0.8484781105566708}, {\"feature_1\": \"total_fer\", \"feature_2\": \"exports\", \"correlation\": -0.32001055003580775}, {\"feature_1\": \"total_fer\", \"feature_2\": \"health\", \"correlation\": -0.19667398827210922}, {\"feature_1\": \"total_fer\", \"feature_2\": \"imports\", \"correlation\": -0.15904843378201766}, {\"feature_1\": \"total_fer\", \"feature_2\": \"income\", \"correlation\": -0.5018400532297552}, {\"feature_1\": \"total_fer\", \"feature_2\": \"inflation\", \"correlation\": 0.3169210715383262}, {\"feature_1\": \"total_fer\", \"feature_2\": \"life_expec\", \"correlation\": -0.7608746874349637}, {\"feature_1\": \"total_fer\", \"feature_2\": \"total_fer\", \"correlation\": 1.0}, {\"feature_1\": \"total_fer\", \"feature_2\": \"gdpp\", \"correlation\": -0.45491026725571565}, {\"feature_1\": \"total_fer\", \"feature_2\": \"saldo\", \"correlation\": -0.25981866267213605}, {\"feature_1\": \"total_fer\", \"feature_2\": \"total_health_exp\", \"correlation\": -0.49197536833683525}, {\"feature_1\": \"gdpp\", \"feature_2\": \"child_mort\", \"correlation\": -0.48303216621678197}, {\"feature_1\": \"gdpp\", \"feature_2\": \"exports\", \"correlation\": 0.4187247510013238}, {\"feature_1\": \"gdpp\", \"feature_2\": \"health\", \"correlation\": 0.3459655251954037}, {\"feature_1\": \"gdpp\", \"feature_2\": \"imports\", \"correlation\": 0.11549816977950136}, {\"feature_1\": \"gdpp\", \"feature_2\": \"income\", \"correlation\": 0.8955714330875313}, {\"feature_1\": \"gdpp\", \"feature_2\": \"inflation\", \"correlation\": -0.2216310581015386}, {\"feature_1\": \"gdpp\", \"feature_2\": \"life_expec\", \"correlation\": 0.6000891345742052}, {\"feature_1\": \"gdpp\", \"feature_2\": \"total_fer\", \"correlation\": -0.45491026725571565}, {\"feature_1\": \"gdpp\", \"feature_2\": \"gdpp\", \"correlation\": 1.0}, {\"feature_1\": \"gdpp\", \"feature_2\": \"saldo\", \"correlation\": 0.4583285334850627}, {\"feature_1\": \"gdpp\", \"feature_2\": \"total_health_exp\", \"correlation\": 0.97217185964112}, {\"feature_1\": \"saldo\", \"feature_2\": \"child_mort\", \"correlation\": -0.2977340580845288}, {\"feature_1\": \"saldo\", \"feature_2\": \"exports\", \"correlation\": 0.5047002217839808}, {\"feature_1\": \"saldo\", \"feature_2\": \"health\", \"correlation\": -0.2878924814550538}, {\"feature_1\": \"saldo\", \"feature_2\": \"imports\", \"correlation\": -0.2109796326525293}, {\"feature_1\": \"saldo\", \"feature_2\": \"income\", \"correlation\": 0.5914016830107108}, {\"feature_1\": \"saldo\", \"feature_2\": \"inflation\", \"correlation\": 0.16040451564516148}, {\"feature_1\": \"saldo\", \"feature_2\": \"life_expec\", \"correlation\": 0.3882255054857629}, {\"feature_1\": \"saldo\", \"feature_2\": \"total_fer\", \"correlation\": -0.25981866267213605}, {\"feature_1\": \"saldo\", \"feature_2\": \"gdpp\", \"correlation\": 0.4583285334850627}, {\"feature_1\": \"saldo\", \"feature_2\": \"saldo\", \"correlation\": 1.0}, {\"feature_1\": \"saldo\", \"feature_2\": \"total_health_exp\", \"correlation\": 0.5408447463543459}, {\"feature_1\": \"total_health_exp\", \"feature_2\": \"child_mort\", \"correlation\": -0.5178876441757239}, {\"feature_1\": \"total_health_exp\", \"feature_2\": \"exports\", \"correlation\": 0.4817288289953414}, {\"feature_1\": \"total_health_exp\", \"feature_2\": \"health\", \"correlation\": 0.24142404077863913}, {\"feature_1\": \"total_health_exp\", \"feature_2\": \"imports\", \"correlation\": 0.12227228905505642}, {\"feature_1\": \"total_health_exp\", \"feature_2\": \"income\", \"correlation\": 0.9748796984163512}, {\"feature_1\": \"total_health_exp\", \"feature_2\": \"inflation\", \"correlation\": -0.18875166043396194}, {\"feature_1\": \"total_health_exp\", \"feature_2\": \"life_expec\", \"correlation\": 0.6226382508199112}, {\"feature_1\": \"total_health_exp\", \"feature_2\": \"total_fer\", \"correlation\": -0.49197536833683525}, {\"feature_1\": \"total_health_exp\", \"feature_2\": \"gdpp\", \"correlation\": 0.97217185964112}, {\"feature_1\": \"total_health_exp\", \"feature_2\": \"saldo\", \"correlation\": 0.5408447463543459}, {\"feature_1\": \"total_health_exp\", \"feature_2\": \"total_health_exp\", \"correlation\": 1.0}]}}, {\"mode\": \"vega-lite\"});\n",
       "</script>"
      ],
      "text/plain": [
       "alt.LayerChart(...)"
      ]
     },
     "execution_count": 7,
     "metadata": {},
     "output_type": "execute_result"
    }
   ],
   "source": [
    "from visualization_functions import plot_corr\n",
    "\n",
    "plot_corr(X_extended)"
   ]
  },
  {
   "cell_type": "markdown",
   "metadata": {},
   "source": [
    "### PCA"
   ]
  },
  {
   "cell_type": "code",
   "execution_count": 12,
   "metadata": {},
   "outputs": [
    {
     "name": "stdout",
     "output_type": "stream",
     "text": [
      "best number of componenets: 4\n"
     ]
    }
   ],
   "source": [
    "def de_correlate_df(df: pd.DataFrame) -> pd.DataFrame:\n",
    "    \"\"\"\n",
    "    Creates a de-correlated version of the input DataFrame.\n",
    "\n",
    "    Parameters:\n",
    "        df (pd.DataFrame): The input DataFrame.\n",
    "\n",
    "    Returns:\n",
    "        A de-correlated version of the input DataFrame.\n",
    "    \"\"\"\n",
    "    X_aux = df.copy()\n",
    "    for col in df.columns:\n",
    "        X_aux[col] = df[col].sample(frac=1).values\n",
    "    return X_aux\n",
    "\n",
    "def determin_n_pca_by_permutations(X: np.ndarray, n_permutations: int = 1000) -> np.ndarray:\n",
    "    \"\"\"\n",
    "    Performs a permutation test to determine the significance of the explained variance of PCA.\n",
    "    Determines the number of componenets that are significant.\n",
    "\n",
    "    Parameters:\n",
    "        X (np.ndarray): The input data of shape (n_samples, n_features).\n",
    "        n_permutations (int): The number of permutations to perform. Defaults to 1000.\n",
    "\n",
    "    Returns:\n",
    "        A numpy array containing the p-values for each principal component.\n",
    "    \"\"\"\n",
    "    pca = PCA()\n",
    "    pca.fit(X)\n",
    "    original_variance = pca.explained_variance_ratio_\n",
    "\n",
    "    variance = np.zeros((n_permutations, X.shape[1]))\n",
    "    for i in range(n_permutations):\n",
    "        X_aux = de_correlate_df(pd.DataFrame(X))\n",
    "        pca.fit(X_aux)\n",
    "        variance[i, :] = pca.explained_variance_ratio_\n",
    "\n",
    "    p_val = np.sum(variance > original_variance, axis=0) / n_permutations\n",
    "    return np.argmax(p_val > 0.05) + 1\n",
    "\n",
    "best_componenets_n = determin_n_pca_by_permutations(X_extended)\n",
    "print(f\"Best number of componenets: {best_componenets_n}\")"
   ]
  },
  {
   "cell_type": "code",
   "execution_count": 22,
   "metadata": {},
   "outputs": [
    {
     "data": {
      "text/html": [
       "<div>\n",
       "<style scoped>\n",
       "    .dataframe tbody tr th:only-of-type {\n",
       "        vertical-align: middle;\n",
       "    }\n",
       "\n",
       "    .dataframe tbody tr th {\n",
       "        vertical-align: top;\n",
       "    }\n",
       "\n",
       "    .dataframe thead th {\n",
       "        text-align: right;\n",
       "    }\n",
       "</style>\n",
       "<table border=\"1\" class=\"dataframe\">\n",
       "  <thead>\n",
       "    <tr style=\"text-align: right;\">\n",
       "      <th></th>\n",
       "      <th>PC1</th>\n",
       "      <th>PC2</th>\n",
       "      <th>PC3</th>\n",
       "      <th>PC4</th>\n",
       "    </tr>\n",
       "  </thead>\n",
       "  <tbody>\n",
       "    <tr>\n",
       "      <th>PC1</th>\n",
       "      <td>True</td>\n",
       "      <td>False</td>\n",
       "      <td>False</td>\n",
       "      <td>False</td>\n",
       "    </tr>\n",
       "    <tr>\n",
       "      <th>PC2</th>\n",
       "      <td>False</td>\n",
       "      <td>True</td>\n",
       "      <td>False</td>\n",
       "      <td>False</td>\n",
       "    </tr>\n",
       "    <tr>\n",
       "      <th>PC3</th>\n",
       "      <td>False</td>\n",
       "      <td>False</td>\n",
       "      <td>True</td>\n",
       "      <td>False</td>\n",
       "    </tr>\n",
       "    <tr>\n",
       "      <th>PC4</th>\n",
       "      <td>False</td>\n",
       "      <td>False</td>\n",
       "      <td>False</td>\n",
       "      <td>True</td>\n",
       "    </tr>\n",
       "  </tbody>\n",
       "</table>\n",
       "</div>"
      ],
      "text/plain": [
       "       PC1    PC2    PC3    PC4\n",
       "PC1   True  False  False  False\n",
       "PC2  False   True  False  False\n",
       "PC3  False  False   True  False\n",
       "PC4  False  False  False   True"
      ]
     },
     "execution_count": 22,
     "metadata": {},
     "output_type": "execute_result"
    }
   ],
   "source": [
    "\n",
    "\n",
    "pca = PCA(n_components=best_componenets_n)\n",
    "\n",
    "pca_df = pd.DataFrame(pca.fit_transform(X_extended),\n",
    "                      index=countries_df.index,\n",
    "                      columns=[f\"PC{i}\" for i in range(1, best_componenets_n+1)])\n",
    "\n",
    "# no correlation between PCs\n",
    "(pca_df.corr() > 0.05)"
   ]
  },
  {
   "cell_type": "code",
   "execution_count": 32,
   "metadata": {},
   "outputs": [
    {
     "name": "stdout",
     "output_type": "stream",
     "text": [
      "hopkins score: 0.8263252902564866\n"
     ]
    }
   ],
   "source": [
    "# strangely, it decreased:)\n",
    "print(f\"hopkins score: {test_hopkins(pca_df)}\")"
   ]
  }
 ],
 "metadata": {
  "kernelspec": {
   "display_name": "dm_project_env",
   "language": "python",
   "name": "python3"
  },
  "language_info": {
   "codemirror_mode": {
    "name": "ipython",
    "version": 3
   },
   "file_extension": ".py",
   "mimetype": "text/x-python",
   "name": "python",
   "nbconvert_exporter": "python",
   "pygments_lexer": "ipython3",
   "version": "3.10.6"
  },
  "orig_nbformat": 4
 },
 "nbformat": 4,
 "nbformat_minor": 2
}
